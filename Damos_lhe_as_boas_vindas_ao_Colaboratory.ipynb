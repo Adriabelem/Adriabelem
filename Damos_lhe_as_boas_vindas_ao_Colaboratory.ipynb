{
  "cells": [
    {
      "cell_type": "markdown",
      "metadata": {
        "id": "view-in-github",
        "colab_type": "text"
      },
      "source": [
        "<a href=\"https://colab.research.google.com/github/Adriabelem/Adriabelem/blob/main/Damos_lhe_as_boas_vindas_ao_Colaboratory.ipynb\" target=\"_parent\"><img src=\"https://colab.research.google.com/assets/colab-badge.svg\" alt=\"Open In Colab\"/></a>"
      ]
    },
    {
      "cell_type": "code",
      "source": [
        "import time\n",
        "print (time.ctime())"
      ],
      "metadata": {
        "colab": {
          "base_uri": "https://localhost:8080/"
        },
        "id": "1KiFxOBAibUM",
        "outputId": "282472f5-2cc0-4c4b-fdf6-b7149d01a380"
      },
      "execution_count": 1,
      "outputs": [
        {
          "output_type": "stream",
          "name": "stdout",
          "text": [
            "Tue Jan 23 13:39:40 2024\n"
          ]
        }
      ]
    },
    {
      "cell_type": "code",
      "source": [
        "time.sleep(5)\n",
        "print (time.ctime())"
      ],
      "metadata": {
        "colab": {
          "base_uri": "https://localhost:8080/"
        },
        "id": "a_GWOzMyj_oh",
        "outputId": "cecfdf0d-bd71-4d5e-d364-65d43a3774f4"
      },
      "execution_count": 2,
      "outputs": [
        {
          "output_type": "stream",
          "name": "stdout",
          "text": [
            "Tue Jan 23 13:44:25 2024\n"
          ]
        }
      ]
    },
    {
      "cell_type": "markdown",
      "source": [
        "$\\sqrt{3x-1}+(1+x)^2$\n",
        "\n",
        "\n"
      ],
      "metadata": {
        "id": "UtXfT5U-lmJ0"
      }
    }
  ],
  "metadata": {
    "colab": {
      "name": "Damos-lhe as boas-vindas ao Colaboratory",
      "provenance": [],
      "include_colab_link": true
    },
    "kernelspec": {
      "display_name": "Python 3",
      "name": "python3"
    }
  },
  "nbformat": 4,
  "nbformat_minor": 0
}